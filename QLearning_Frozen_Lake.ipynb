{
 "cells": [
  {
   "cell_type": "code",
   "execution_count": 2,
   "id": "c183f6e2-4a02-4afe-a220-ba6c8c62cadf",
   "metadata": {},
   "outputs": [],
   "source": [
    "import numpy as np\n",
    "import gym \n",
    "import random\n",
    "import time\n",
    "from IPython.display import clear_output"
   ]
  },
  {
   "cell_type": "code",
   "execution_count": 3,
   "id": "db35197b-6394-4668-85c2-52b14094888f",
   "metadata": {},
   "outputs": [],
   "source": [
    "env = gym.make(\"FrozenLake-v1\")"
   ]
  },
  {
   "cell_type": "code",
   "execution_count": 4,
   "id": "e15d2a35-6d56-4738-af01-c562393a1bbc",
   "metadata": {},
   "outputs": [
    {
     "name": "stdout",
     "output_type": "stream",
     "text": [
      "[[0. 0. 0. 0.]\n",
      " [0. 0. 0. 0.]\n",
      " [0. 0. 0. 0.]\n",
      " [0. 0. 0. 0.]\n",
      " [0. 0. 0. 0.]\n",
      " [0. 0. 0. 0.]\n",
      " [0. 0. 0. 0.]\n",
      " [0. 0. 0. 0.]\n",
      " [0. 0. 0. 0.]\n",
      " [0. 0. 0. 0.]\n",
      " [0. 0. 0. 0.]\n",
      " [0. 0. 0. 0.]\n",
      " [0. 0. 0. 0.]\n",
      " [0. 0. 0. 0.]\n",
      " [0. 0. 0. 0.]\n",
      " [0. 0. 0. 0.]]\n"
     ]
    }
   ],
   "source": [
    "#q-table initialization\n",
    "action_space_size = env.action_space.n\n",
    "state_space_size = env.observation_space.n\n",
    "\n",
    "q_table = np.zeros((state_space_size,action_space_size))\n",
    "print(q_table)"
   ]
  },
  {
   "cell_type": "code",
   "execution_count": 5,
   "id": "f086f8bb-4380-4e9b-80ee-49a97ce6d894",
   "metadata": {},
   "outputs": [],
   "source": [
    "num_episodes = 10000\n",
    "max_steps_per_episode = 100\n",
    "\n",
    "learning_rate = 0.1\n",
    "discount_rate = 0.99\n",
    "\n",
    "exploration_rate = 1\n",
    "max_exploration_rate = 1\n",
    "min_exploration_rate = 0.01\n",
    "exploration_decay_rate = 0.001\n"
   ]
  },
  {
   "cell_type": "code",
   "execution_count": 9,
   "id": "8aac934c-ed9f-49aa-90b3-03c73877ae39",
   "metadata": {},
   "outputs": [
    {
     "name": "stdout",
     "output_type": "stream",
     "text": [
      "-------------Average reqrds per thousand episodes-------------\n",
      "\n",
      "1000 :  0.0\n",
      "2000 :  0.0\n",
      "3000 :  0.0\n",
      "4000 :  0.0\n",
      "5000 :  0.0\n",
      "6000 :  0.0\n",
      "7000 :  0.0\n",
      "8000 :  0.0\n",
      "9000 :  0.0\n",
      "10000 :  0.0\n",
      "\n",
      "\n",
      "----------------Q_table----------------\n",
      "\n",
      "[[0.54124033 0.52421249 0.5266282  0.51200149]\n",
      " [0.38537147 0.34499552 0.38214177 0.51556964]\n",
      " [0.43412323 0.43055668 0.3927865  0.49026384]\n",
      " [0.19121365 0.35057626 0.36758174 0.47542243]\n",
      " [0.55526029 0.28972546 0.31343752 0.41932534]\n",
      " [0.         0.         0.         0.        ]\n",
      " [0.17082375 0.08170835 0.28149909 0.21803364]\n",
      " [0.         0.         0.         0.        ]\n",
      " [0.4312491  0.5105299  0.38780821 0.59339515]\n",
      " [0.34035644 0.6226219  0.30879229 0.46638146]\n",
      " [0.60970989 0.41579912 0.37156113 0.34365151]\n",
      " [0.         0.         0.         0.        ]\n",
      " [0.         0.         0.         0.        ]\n",
      " [0.44646632 0.51679841 0.69634656 0.43223298]\n",
      " [0.7230491  0.83998672 0.75494842 0.78197683]\n",
      " [0.         0.         0.         0.        ]]\n"
     ]
    }
   ],
   "source": [
    "rewards_all_episodes = []\n",
    "\n",
    "#Q-learning algorithm\n",
    "for episode in range(num_episodes):\n",
    "    state = env.reset()\n",
    "    done = False\n",
    "    rewards_current_episode = 0;\n",
    "    \n",
    "    for step in range(max_steps_per_episode):\n",
    "        \n",
    "        #Exploration-Exploitation trade-off\n",
    "        exploration_rate_threshold = random.uniform(0,1)\n",
    "        if exploration_rate_threshold > exploration_rate:\n",
    "            action = np.argmax(q_table[state,:])\n",
    "            \n",
    "        else:\n",
    "            action = env.action_space.sample()\n",
    "            \n",
    "        new_state, reward, done, info = env.step(action)\n",
    "        \n",
    "        #Update Q-table for Q(s,a)\n",
    "        q_table[state,action] = q_table[state,action] * (1-learning_rate) + learning_rate * (reward + discount_rate * np.max(q_table[new_state,:]))\n",
    "    \n",
    "        state = new_state\n",
    "        rewards_current_episode += reward\n",
    "        \n",
    "        if done == True:\n",
    "            break\n",
    "            \n",
    "        #Exploration rate decay\n",
    "        exploration_rate = min_exploration_rate + (max_exploration_rate-min_exploration_rate) * np.exp(-exploration_decay_rate*episode)\n",
    "        \n",
    "        rewards_all_episodes.append(rewards_current_episode)\n",
    "\n",
    "\n",
    "#Calculate and print average reward per thousand episodes\n",
    "rewards_per_thousand_episodes = np.split(np.array(rewards_all_episodes),num_episodes/1000)\n",
    "count = 1000\n",
    "print(\"-------------Average rewards per thousand episodes-------------\\n\")\n",
    "for r in rewards_per_thousand_episodes:\n",
    "    print(count,\": \", str(sum(r/1000)))\n",
    "    count+=1000\n",
    "\n",
    "#Print updated Q-table\n",
    "print(\"\\n\\n----------------Q_table----------------\\n\")\n",
    "print(q_table)"
   ]
  },
  {
   "cell_type": "code",
   "execution_count": null,
   "id": "84a40cce-5fbe-4622-8392-689d3e3276a6",
   "metadata": {},
   "outputs": [],
   "source": []
  }
 ],
 "metadata": {
  "kernelspec": {
   "display_name": "Python 3 (ipykernel)",
   "language": "python",
   "name": "python3"
  },
  "language_info": {
   "codemirror_mode": {
    "name": "ipython",
    "version": 3
   },
   "file_extension": ".py",
   "mimetype": "text/x-python",
   "name": "python",
   "nbconvert_exporter": "python",
   "pygments_lexer": "ipython3",
   "version": "3.9.7"
  }
 },
 "nbformat": 4,
 "nbformat_minor": 5
}
