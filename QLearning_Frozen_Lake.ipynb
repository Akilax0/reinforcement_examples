{
 "cells": [
  {
   "cell_type": "code",
   "execution_count": 2,
   "id": "c183f6e2-4a02-4afe-a220-ba6c8c62cadf",
   "metadata": {},
   "outputs": [],
   "source": [
    "import numpy as np\n",
    "import gym \n",
    "import random\n",
    "import time\n",
    "from IPython.display import clear_output"
   ]
  },
  {
   "cell_type": "code",
   "execution_count": 3,
   "id": "db35197b-6394-4668-85c2-52b14094888f",
   "metadata": {},
   "outputs": [],
   "source": [
    "env = gym.make(\"FrozenLake-v1\")"
   ]
  },
  {
   "cell_type": "code",
   "execution_count": 4,
   "id": "e15d2a35-6d56-4738-af01-c562393a1bbc",
   "metadata": {},
   "outputs": [
    {
     "name": "stdout",
     "output_type": "stream",
     "text": [
      "[[0. 0. 0. 0.]\n",
      " [0. 0. 0. 0.]\n",
      " [0. 0. 0. 0.]\n",
      " [0. 0. 0. 0.]\n",
      " [0. 0. 0. 0.]\n",
      " [0. 0. 0. 0.]\n",
      " [0. 0. 0. 0.]\n",
      " [0. 0. 0. 0.]\n",
      " [0. 0. 0. 0.]\n",
      " [0. 0. 0. 0.]\n",
      " [0. 0. 0. 0.]\n",
      " [0. 0. 0. 0.]\n",
      " [0. 0. 0. 0.]\n",
      " [0. 0. 0. 0.]\n",
      " [0. 0. 0. 0.]\n",
      " [0. 0. 0. 0.]]\n"
     ]
    }
   ],
   "source": [
    "#q-table initialization\n",
    "action_space_size = env.action_space.n\n",
    "state_space_size = env.observation_space.n\n",
    "\n",
    "q_table = np.zeros((state_space_size,action_space_size))\n",
    "print(q_table)"
   ]
  },
  {
   "cell_type": "code",
   "execution_count": 5,
   "id": "f086f8bb-4380-4e9b-80ee-49a97ce6d894",
   "metadata": {},
   "outputs": [],
   "source": [
    "num_episodes = 10000\n",
    "max_steps_per_episode = 100\n",
    "\n",
    "learning_rate = 0.1\n",
    "discount_rate = 0.99\n",
    "\n",
    "exploration_rate = 1\n",
    "max_exploration_rate = 1\n",
    "min_exploration_rate = 0.001\n",
    "exploration_decay_rate = 0.001\n"
   ]
  },
  {
   "cell_type": "code",
   "execution_count": 6,
   "id": "8aac934c-ed9f-49aa-90b3-03c73877ae39",
   "metadata": {},
   "outputs": [
    {
     "name": "stdout",
     "output_type": "stream",
     "text": [
      "-------------Average rewards per thousand episodes-------------\n",
      "\n",
      "1000 :  0.03800000000000003\n",
      "2000 :  0.19800000000000015\n",
      "3000 :  0.4170000000000003\n",
      "4000 :  0.5910000000000004\n",
      "5000 :  0.6560000000000005\n",
      "6000 :  0.6790000000000005\n",
      "7000 :  0.7420000000000005\n",
      "8000 :  0.7210000000000005\n",
      "9000 :  0.7220000000000005\n",
      "10000 :  0.7570000000000006\n",
      "\n",
      "\n",
      "----------------Q_table----------------\n",
      "\n",
      "[[0.5691454  0.47747625 0.48810327 0.48786736]\n",
      " [0.36352899 0.3155908  0.39492538 0.50662491]\n",
      " [0.39021721 0.41174114 0.39798023 0.47428712]\n",
      " [0.29436431 0.28937064 0.32701083 0.44768985]\n",
      " [0.59402741 0.34879514 0.474528   0.34423031]\n",
      " [0.         0.         0.         0.        ]\n",
      " [0.4534533  0.13390494 0.18778584 0.14656689]\n",
      " [0.         0.         0.         0.        ]\n",
      " [0.42255873 0.35609308 0.42731096 0.62083973]\n",
      " [0.42717961 0.67642942 0.47378821 0.38075097]\n",
      " [0.62722518 0.35661847 0.3816887  0.18580169]\n",
      " [0.         0.         0.         0.        ]\n",
      " [0.         0.         0.         0.        ]\n",
      " [0.50907632 0.58185723 0.76113064 0.35746872]\n",
      " [0.71818332 0.91562121 0.72496859 0.72842832]\n",
      " [0.         0.         0.         0.        ]]\n"
     ]
    }
   ],
   "source": [
    "rewards_all_episodes = []\n",
    "\n",
    "#Q-learning algorithm\n",
    "for episode in range(num_episodes):\n",
    "    state = env.reset()\n",
    "    done = False\n",
    "    rewards_current_episode = 0;\n",
    "    \n",
    "    for step in range(max_steps_per_episode):\n",
    "        \n",
    "        #Exploration-Exploitation trade-off\n",
    "        exploration_rate_threshold = random.uniform(0,1)\n",
    "        if exploration_rate_threshold > exploration_rate:\n",
    "            action = np.argmax(q_table[state,:])\n",
    "            \n",
    "        else:\n",
    "            action = env.action_space.sample()\n",
    "            \n",
    "        new_state, reward, done, info = env.step(action)\n",
    "        \n",
    "        #Update Q-table for Q(s,a)\n",
    "        q_table[state,action] = q_table[state,action] * (1-learning_rate) + learning_rate * (reward + discount_rate * np.max(q_table[new_state,:]))\n",
    "    \n",
    "        state = new_state\n",
    "        rewards_current_episode += reward\n",
    "        \n",
    "        if done == True:\n",
    "            break\n",
    "            \n",
    "    #Exploration rate decay\n",
    "    exploration_rate = min_exploration_rate + (max_exploration_rate-min_exploration_rate) * np.exp(-exploration_decay_rate*episode)\n",
    "    rewards_all_episodes.append(rewards_current_episode)\n",
    "\n",
    "\n",
    "#Calculate and print average reward per thousand episodes\n",
    "rewards_per_thousand_episodes = np.split(np.array(rewards_all_episodes),num_episodes/1000)\n",
    "count = 1000\n",
    "print(\"-------------Average rewards per thousand episodes-------------\\n\")\n",
    "for r in rewards_per_thousand_episodes:\n",
    "    print(count,\": \", str(sum(r/1000)))\n",
    "    count+=1000\n",
    "\n",
    "#Print updated Q-table\n",
    "print(\"\\n\\n----------------Q_table----------------\\n\")\n",
    "print(q_table)"
   ]
  },
  {
   "cell_type": "code",
   "execution_count": 7,
   "id": "84a40cce-5fbe-4622-8392-689d3e3276a6",
   "metadata": {},
   "outputs": [
    {
     "name": "stdout",
     "output_type": "stream",
     "text": [
      "  (Left)\n",
      "SFFF\n",
      "F\u001b[41mH\u001b[0mFH\n",
      "FFFH\n",
      "HFFG\n",
      "***You Fell through a hole*****\n"
     ]
    }
   ],
   "source": [
    "for episode in range(3):\n",
    "    state = env.reset()\n",
    "    done= False\n",
    "    print(\"********EPISODE \", episode+1, \"*******\\n\\n\\n\\n\")\n",
    "    time.sleep(1)\n",
    "\n",
    "    for step in range(max_steps_per_episode):\n",
    "        clear_output(wait=True)\n",
    "        env.render()\n",
    "        time.sleep(0.3)\n",
    "\n",
    "        action = np.argmax(q_table[state,:])\n",
    "        new_state,reward,done, info = env.step(action)\n",
    "\n",
    "        if done:\n",
    "            clear_output(wait=True)\n",
    "            env.render()\n",
    "            if reward == 1:\n",
    "                print(\"****You reached the goal!**\")\n",
    "                time.sleep(3)\n",
    "            else:\n",
    "                print(\"***You Fell through a hole*****\")\n",
    "                time.sleep(3)\n",
    "            clear_output(wait=True)\n",
    "            break\n",
    "        \n",
    "        state = new_state\n",
    "\n",
    "env.close()\n",
    "\n"
   ]
  },
  {
   "cell_type": "code",
   "execution_count": null,
   "id": "17c51f68",
   "metadata": {},
   "outputs": [],
   "source": []
  }
 ],
 "metadata": {
  "kernelspec": {
   "display_name": "Python 3 (ipykernel)",
   "language": "python",
   "name": "python3"
  },
  "language_info": {
   "codemirror_mode": {
    "name": "ipython",
    "version": 3
   },
   "file_extension": ".py",
   "mimetype": "text/x-python",
   "name": "python",
   "nbconvert_exporter": "python",
   "pygments_lexer": "ipython3",
   "version": "3.9.7"
  }
 },
 "nbformat": 4,
 "nbformat_minor": 5
}
